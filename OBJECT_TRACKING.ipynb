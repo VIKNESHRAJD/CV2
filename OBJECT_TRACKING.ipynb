{
 "cells": [
  {
   "cell_type": "markdown",
   "id": "9b8c3078-7457-44ca-916a-eba9651df4ab",
   "metadata": {},
   "source": [
    "# IMPORTING LIBRARIES"
   ]
  },
  {
   "cell_type": "code",
   "execution_count": null,
   "id": "184bdea1-f544-4c89-a9c0-dd11e7d71766",
   "metadata": {},
   "outputs": [],
   "source": [
    "import cv2 as cv\n",
    "import numpy as np"
   ]
  },
  {
   "cell_type": "markdown",
   "id": "099044c0-5ab9-4103-a0f4-4636fc64684f",
   "metadata": {},
   "source": [
    "# CAPTURING VIDEO"
   ]
  },
  {
   "cell_type": "code",
   "execution_count": null,
   "id": "00d56faa-319b-492c-a474-51dbc35c7fcf",
   "metadata": {},
   "outputs": [],
   "source": [
    "vid = cv.VideoCapture(\"C:\\\\Users\\\\aedpu\\\\Documents\\\\VIKNESHRAJ D V\\\\OBJECT TRACKING\\\\ch.mp4\")"
   ]
  },
  {
   "cell_type": "code",
   "execution_count": null,
   "id": "bee52f6d-ea8e-40dc-8a19-09dd0b409bc6",
   "metadata": {},
   "outputs": [],
   "source": [
    "def drawbox(img, bbox):\n",
    "    x,y,w,h = int(bbox[0]), int(bbox[1]), int(bbox[2]), int(bbox[3])\n",
    "    cv.rectangle(img,(x,y),((x+y),(x+w)), (255,0,0),2)"
   ]
  },
  {
   "cell_type": "markdown",
   "id": "65fe2a36-d555-4244-9133-f138f2911553",
   "metadata": {},
   "source": [
    "# TRACKING"
   ]
  },
  {
   "cell_type": "code",
   "execution_count": null,
   "id": "aab8878e-583d-46a0-8c2d-97fd82f53450",
   "metadata": {},
   "outputs": [],
   "source": [
    "tracker = cv.TrackerCSRT_create()\n",
    "sucess, img = vid.read()\n",
    "bbox = cv.selectROI(\"PDS\",img,False)\n",
    "tracker.init(img, bbox)\n",
    "\n",
    "while True:\n",
    "    timer = cv.getTickCount()\n",
    "    success, img = vid.read()\n",
    "    success, bbox = tracker.update(img)\n",
    "    \n",
    "    if success:\n",
    "        drawbox(img, bbox)\n",
    "    else:\n",
    "        cv.putText(img, \"Lost\", (75, 75), cv.FONT_HERSHEY_SIMPLEX, 0.5, (0, 0, 255), 2)\n",
    "        \n",
    "    fps = cv.getTickFrequency() / (cv.getTickCount() - timer)\n",
    "    cv.putText(img, str(int(fps)), (75, 50), cv.FONT_HERSHEY_COMPLEX, 0.7, (0, 0, 255), 2)\n",
    "    cv.imshow(\"Tracking\", img)\n",
    "    \n",
    "    if cv.waitKey(30) & 0xFF == ord('q'):\n",
    "        break\n",
    "\n",
    "vid.release()\n",
    "cv.destroyAllWindows()"
   ]
  },
  {
   "cell_type": "code",
   "execution_count": null,
   "id": "2efebba1",
   "metadata": {},
   "outputs": [],
   "source": []
  }
 ],
 "metadata": {
  "kernelspec": {
   "display_name": "Python 3 (ipykernel)",
   "language": "python",
   "name": "python3"
  },
  "language_info": {
   "codemirror_mode": {
    "name": "ipython",
    "version": 3
   },
   "file_extension": ".py",
   "mimetype": "text/x-python",
   "name": "python",
   "nbconvert_exporter": "python",
   "pygments_lexer": "ipython3",
   "version": "3.9.15"
  }
 },
 "nbformat": 4,
 "nbformat_minor": 5
}
