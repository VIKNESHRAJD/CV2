{
 "cells": [
  {
   "cell_type": "markdown",
   "id": "c95e711a",
   "metadata": {},
   "source": [
    "# Install opencv library"
   ]
  },
  {
   "cell_type": "code",
   "execution_count": 1,
   "id": "4a2ce014",
   "metadata": {
    "collapsed": true
   },
   "outputs": [
    {
     "name": "stdout",
     "output_type": "stream",
     "text": [
      "Defaulting to user installation because normal site-packages is not writeable\n",
      "Requirement already satisfied: opencv-python in c:\\users\\aedpu\\appdata\\roaming\\python\\python39\\site-packages (4.10.0.84)\n",
      "Requirement already satisfied: numpy>=1.17.3 in c:\\users\\aedpu\\appdata\\roaming\\python\\python39\\site-packages (from opencv-python) (1.26.1)\n",
      "Note: you may need to restart the kernel to use updated packages.\n"
     ]
    },
    {
     "name": "stderr",
     "output_type": "stream",
     "text": [
      "WARNING: Ignoring invalid distribution -pencv-python (c:\\users\\aedpu\\appdata\\roaming\\python\\python39\\site-packages)\n",
      "WARNING: Ignoring invalid distribution -pencv-python (c:\\users\\aedpu\\appdata\\roaming\\python\\python39\\site-packages)\n",
      "WARNING: Ignoring invalid distribution -pencv-python (c:\\users\\aedpu\\appdata\\roaming\\python\\python39\\site-packages)\n",
      "WARNING: Ignoring invalid distribution -pencv-python (c:\\users\\aedpu\\appdata\\roaming\\python\\python39\\site-packages)\n",
      "WARNING: Ignoring invalid distribution -pencv-python (c:\\users\\aedpu\\appdata\\roaming\\python\\python39\\site-packages)\n",
      "WARNING: Ignoring invalid distribution -pencv-python (c:\\users\\aedpu\\appdata\\roaming\\python\\python39\\site-packages)\n"
     ]
    }
   ],
   "source": [
    "pip install opencv-python"
   ]
  },
  {
   "cell_type": "code",
   "execution_count": 2,
   "id": "d9f344c7",
   "metadata": {},
   "outputs": [],
   "source": [
    "import numpy"
   ]
  },
  {
   "cell_type": "code",
   "execution_count": 3,
   "id": "ebfef599",
   "metadata": {},
   "outputs": [
    {
     "data": {
      "text/plain": [
       "'1.26.1'"
      ]
     },
     "execution_count": 3,
     "metadata": {},
     "output_type": "execute_result"
    }
   ],
   "source": [
    "numpy.__version__"
   ]
  },
  {
   "cell_type": "code",
   "execution_count": 4,
   "id": "6574f86d",
   "metadata": {},
   "outputs": [],
   "source": [
    "import cv2"
   ]
  },
  {
   "cell_type": "markdown",
   "id": "dd03f61b",
   "metadata": {},
   "source": [
    "# Check the version"
   ]
  },
  {
   "cell_type": "code",
   "execution_count": 5,
   "id": "1d9f5573",
   "metadata": {
    "collapsed": true
   },
   "outputs": [
    {
     "name": "stdout",
     "output_type": "stream",
     "text": [
      "Defaulting to user installation because normal site-packages is not writeable\n",
      "Requirement already satisfied: opencv-python in c:\\users\\aedpu\\appdata\\roaming\\python\\python39\\site-packages (4.10.0.84)\n",
      "Requirement already satisfied: numpy>=1.17.3 in c:\\users\\aedpu\\appdata\\roaming\\python\\python39\\site-packages (from opencv-python) (1.26.1)\n",
      "Note: you may need to restart the kernel to use updated packages.\n"
     ]
    },
    {
     "name": "stderr",
     "output_type": "stream",
     "text": [
      "WARNING: Ignoring invalid distribution -pencv-python (c:\\users\\aedpu\\appdata\\roaming\\python\\python39\\site-packages)\n",
      "WARNING: Ignoring invalid distribution -pencv-python (c:\\users\\aedpu\\appdata\\roaming\\python\\python39\\site-packages)\n",
      "WARNING: Ignoring invalid distribution -pencv-python (c:\\users\\aedpu\\appdata\\roaming\\python\\python39\\site-packages)\n",
      "WARNING: Ignoring invalid distribution -pencv-python (c:\\users\\aedpu\\appdata\\roaming\\python\\python39\\site-packages)\n",
      "WARNING: Ignoring invalid distribution -pencv-python (c:\\users\\aedpu\\appdata\\roaming\\python\\python39\\site-packages)\n",
      "WARNING: Ignoring invalid distribution -pencv-python (c:\\users\\aedpu\\appdata\\roaming\\python\\python39\\site-packages)\n"
     ]
    }
   ],
   "source": [
    "pip install --upgrade opencv-python"
   ]
  },
  {
   "cell_type": "code",
   "execution_count": 6,
   "id": "d10801d3",
   "metadata": {},
   "outputs": [
    {
     "data": {
      "text/plain": [
       "'4.10.0'"
      ]
     },
     "execution_count": 6,
     "metadata": {},
     "output_type": "execute_result"
    }
   ],
   "source": [
    "cv2.__version__"
   ]
  },
  {
   "cell_type": "markdown",
   "id": "6a9eac99",
   "metadata": {},
   "source": [
    "# Reading Image"
   ]
  },
  {
   "cell_type": "code",
   "execution_count": 7,
   "id": "27ff68e5",
   "metadata": {},
   "outputs": [],
   "source": [
    "import cv2"
   ]
  },
  {
   "cell_type": "code",
   "execution_count": 8,
   "id": "a062e2f0",
   "metadata": {},
   "outputs": [],
   "source": [
    "import numpy as np"
   ]
  },
  {
   "cell_type": "code",
   "execution_count": 9,
   "id": "37eca179",
   "metadata": {},
   "outputs": [],
   "source": [
    "img=cv2.imread('leo.jpg')"
   ]
  },
  {
   "cell_type": "code",
   "execution_count": 10,
   "id": "0fe84b3c",
   "metadata": {
    "collapsed": true
   },
   "outputs": [
    {
     "name": "stdout",
     "output_type": "stream",
     "text": [
      "[[[ 27  27  27]\n",
      "  [ 27  27  27]\n",
      "  [ 27  27  27]\n",
      "  ...\n",
      "  [ 12  10  10]\n",
      "  [ 12  10  10]\n",
      "  [ 12  10  10]]\n",
      "\n",
      " [[ 27  27  27]\n",
      "  [ 27  27  27]\n",
      "  [ 27  27  27]\n",
      "  ...\n",
      "  [ 12  10  10]\n",
      "  [ 12  10  10]\n",
      "  [ 12  10  10]]\n",
      "\n",
      " [[ 27  27  27]\n",
      "  [ 27  27  27]\n",
      "  [ 27  27  27]\n",
      "  ...\n",
      "  [ 12  10  10]\n",
      "  [ 12  10  10]\n",
      "  [ 12  10  10]]\n",
      "\n",
      " ...\n",
      "\n",
      " [[119 117 129]\n",
      "  [119 117 129]\n",
      "  [118 116 128]\n",
      "  ...\n",
      "  [171 173 174]\n",
      "  [171 173 174]\n",
      "  [172 174 175]]\n",
      "\n",
      " [[119 116 131]\n",
      "  [118 115 130]\n",
      "  [118 115 130]\n",
      "  ...\n",
      "  [171 173 174]\n",
      "  [171 173 174]\n",
      "  [172 174 175]]\n",
      "\n",
      " [[118 115 130]\n",
      "  [118 115 130]\n",
      "  [118 115 130]\n",
      "  ...\n",
      "  [171 173 174]\n",
      "  [171 173 174]\n",
      "  [172 174 175]]]\n"
     ]
    }
   ],
   "source": [
    "print(img)"
   ]
  },
  {
   "cell_type": "markdown",
   "id": "968dfbc1",
   "metadata": {},
   "source": [
    "# Display an Image"
   ]
  },
  {
   "cell_type": "code",
   "execution_count": 23,
   "id": "a1320e4c",
   "metadata": {},
   "outputs": [],
   "source": [
    "cv2.imshow(\"img\", img)\n",
    "cv2.waitKey()\n",
    "cv2.destroyAllWindows()"
   ]
  },
  {
   "cell_type": "markdown",
   "id": "80c46269",
   "metadata": {},
   "source": [
    "# Greyscale"
   ]
  },
  {
   "cell_type": "code",
   "execution_count": 40,
   "id": "7dcc4ec3",
   "metadata": {},
   "outputs": [],
   "source": [
    "grey = cv2.imread('leo.jpg',0)"
   ]
  },
  {
   "cell_type": "code",
   "execution_count": 41,
   "id": "5cafe083",
   "metadata": {},
   "outputs": [
    {
     "data": {
      "text/plain": [
       "array([[ 27,  27,  27, ...,  10,  10,  10],\n",
       "       [ 27,  27,  27, ...,  10,  10,  10],\n",
       "       [ 27,  27,  27, ...,  10,  10,  10],\n",
       "       ...,\n",
       "       [121, 121, 120, ..., 173, 173, 174],\n",
       "       [121, 120, 120, ..., 173, 173, 174],\n",
       "       [120, 120, 120, ..., 173, 173, 174]], dtype=uint8)"
      ]
     },
     "execution_count": 41,
     "metadata": {},
     "output_type": "execute_result"
    }
   ],
   "source": [
    "grey"
   ]
  },
  {
   "cell_type": "markdown",
   "id": "d705353c",
   "metadata": {},
   "source": [
    "# Greyscale image Display"
   ]
  },
  {
   "cell_type": "code",
   "execution_count": 42,
   "id": "aa386065",
   "metadata": {},
   "outputs": [],
   "source": [
    "cv2.imshow(\"greyimage\",grey)\n",
    "cv2.waitKey(0)\n",
    "cv2.destroyAllWindows()"
   ]
  },
  {
   "cell_type": "markdown",
   "id": "b80bf262",
   "metadata": {},
   "source": [
    "# Write an image"
   ]
  },
  {
   "cell_type": "code",
   "execution_count": 32,
   "id": "7490f3b3",
   "metadata": {},
   "outputs": [
    {
     "data": {
      "text/plain": [
       "True"
      ]
     },
     "execution_count": 32,
     "metadata": {},
     "output_type": "execute_result"
    }
   ],
   "source": [
    "cv2.imwrite('saveimage.jpg',img)"
   ]
  },
  {
   "cell_type": "code",
   "execution_count": 3,
   "id": "3fd1a0c7",
   "metadata": {},
   "outputs": [
    {
     "name": "stdout",
     "output_type": "stream",
     "text": [
      "Defaulting to user installation because normal site-packages is not writeable\n",
      "Requirement already satisfied: opencv-python in c:\\users\\aedpu\\appdata\\roaming\\python\\python39\\site-packages (4.10.0.84)\n",
      "Requirement already satisfied: numpy>=1.19.3 in c:\\users\\aedpu\\appdata\\roaming\\python\\python39\\site-packages (from opencv-python) (1.26.1)\n",
      "Note: you may need to restart the kernel to use updated packages.\n"
     ]
    },
    {
     "name": "stderr",
     "output_type": "stream",
     "text": [
      "WARNING: Ignoring invalid distribution -pencv-python (c:\\users\\aedpu\\appdata\\roaming\\python\\python39\\site-packages)\n",
      "WARNING: Ignoring invalid distribution -pencv-python (c:\\users\\aedpu\\appdata\\roaming\\python\\python39\\site-packages)\n",
      "WARNING: Ignoring invalid distribution -pencv-python (c:\\users\\aedpu\\appdata\\roaming\\python\\python39\\site-packages)\n",
      "WARNING: Ignoring invalid distribution -pencv-python (c:\\users\\aedpu\\appdata\\roaming\\python\\python39\\site-packages)\n",
      "WARNING: Ignoring invalid distribution -pencv-python (c:\\users\\aedpu\\appdata\\roaming\\python\\python39\\site-packages)\n",
      "WARNING: Ignoring invalid distribution -pencv-python (c:\\users\\aedpu\\appdata\\roaming\\python\\python39\\site-packages)\n"
     ]
    }
   ],
   "source": [
    "pip install opencv-python"
   ]
  },
  {
   "cell_type": "code",
   "execution_count": 5,
   "id": "e79af72c",
   "metadata": {},
   "outputs": [],
   "source": [
    "import cv2\n",
    "import numpy as np"
   ]
  },
  {
   "cell_type": "code",
   "execution_count": 6,
   "id": "4fc4798a",
   "metadata": {},
   "outputs": [
    {
     "ename": "SyntaxError",
     "evalue": "(unicode error) 'unicodeescape' codec can't decode bytes in position 2-3: truncated \\UXXXXXXXX escape (1777293458.py, line 1)",
     "output_type": "error",
     "traceback": [
      "\u001b[1;36m  File \u001b[1;32m\"C:\\Users\\aedpu\\AppData\\Local\\Temp\\ipykernel_6776\\1777293458.py\"\u001b[1;36m, line \u001b[1;32m1\u001b[0m\n\u001b[1;33m    view = cv2VedioCapture(\"C:\\Users\\aedpu\\Documents\\VIKNESHRAJ D V\\An extended look at the 2014 Royal Rumble commercial.mp4\")\u001b[0m\n\u001b[1;37m                                                                                                                             ^\u001b[0m\n\u001b[1;31mSyntaxError\u001b[0m\u001b[1;31m:\u001b[0m (unicode error) 'unicodeescape' codec can't decode bytes in position 2-3: truncated \\UXXXXXXXX escape\n"
     ]
    }
   ],
   "source": [
    "view = cv2VedioCapture(\"C:\\Users\\aedpu\\Documents\\VIKNESHRAJ D V\\An extended look at the 2014 Royal Rumble commercial.mp4\")"
   ]
  },
  {
   "cell_type": "code",
   "execution_count": null,
   "id": "85bb41f4",
   "metadata": {},
   "outputs": [],
   "source": [
    "while"
   ]
  }
 ],
 "metadata": {
  "kernelspec": {
   "display_name": "Python 3 (ipykernel)",
   "language": "python",
   "name": "python3"
  },
  "language_info": {
   "codemirror_mode": {
    "name": "ipython",
    "version": 3
   },
   "file_extension": ".py",
   "mimetype": "text/x-python",
   "name": "python",
   "nbconvert_exporter": "python",
   "pygments_lexer": "ipython3",
   "version": "3.9.13"
  }
 },
 "nbformat": 4,
 "nbformat_minor": 5
}
